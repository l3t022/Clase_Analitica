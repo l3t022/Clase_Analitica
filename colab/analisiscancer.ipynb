{
  "nbformat": 4,
  "nbformat_minor": 0,
  "metadata": {
    "colab": {
      "name": "analisiscancer.ipynb",
      "provenance": [],
      "authorship_tag": "ABX9TyPpcRQbf92MWH5wBw8VrZAf",
      "include_colab_link": true
    },
    "kernelspec": {
      "name": "python3",
      "display_name": "Python 3"
    },
    "language_info": {
      "name": "python"
    }
  },
  "cells": [
    {
      "cell_type": "markdown",
      "metadata": {
        "id": "view-in-github",
        "colab_type": "text"
      },
      "source": [
        "<a href=\"https://colab.research.google.com/github/l3t022/Clase_Analitica/blob/main/colab/analisiscancer.ipynb\" target=\"_parent\"><img src=\"https://colab.research.google.com/assets/colab-badge.svg\" alt=\"Open In Colab\"/></a>"
      ]
    },
    {
      "cell_type": "code",
      "metadata": {
        "id": "wHgJdgUpM_dN"
      },
      "source": [
        "import pandas as pd\n",
        "datos = \"https://raw.githubusercontent.com/l3t022/Clase_Analitica/main/csv/cancer.csv\"\n",
        "df = pd.read_csv\n",
        "df"
      ],
      "execution_count": null,
      "outputs": []
    }
  ]
}